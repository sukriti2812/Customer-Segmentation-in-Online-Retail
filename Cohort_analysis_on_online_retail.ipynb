{
 "cells": [
  {
   "cell_type": "markdown",
   "id": "51ce99d9-e212-411c-aff6-31698ae0adc9",
   "metadata": {},
   "source": [
    "# Online Retail Customer Segmentation Project"
   ]
  },
  {
   "cell_type": "markdown",
   "id": "a1bfb4b8-84bd-4f60-9f08-764d07d4c18b",
   "metadata": {},
   "source": [
    "This is a transnational data set which contains all the transactions occurring between 01/12/2010 and 09/12/2011 for a UK-based and registered non-store online retail.The company mainly sells unique all-occasion gifts. Many customers of the company are wholesalers."
   ]
  },
  {
   "cell_type": "code",
   "execution_count": 1,
   "id": "90e6c8e1-9426-4e8c-aaf9-d94fef570961",
   "metadata": {},
   "outputs": [],
   "source": [
    "# importing the libraries\n",
    "\n",
    "# for data manipulation and analysis\n",
    "import pandas as pd\n",
    "import numpy as np\n",
    "\n",
    "# for data visualization\n",
    "import matplotlib.pyplot as plt\n",
    "import seaborn as sns\n",
    "\n",
    "# for scaling\n",
    "from sklearn.preprocessing import StandardScaler\n",
    "\n",
    "# for K-Means clustering\n",
    "from sklearn.cluster import KMeans\n",
    "\n",
    "# ignore warnings\n",
    "import warnings\n",
    "warnings.filterwarnings('ignore')"
   ]
  },
  {
   "cell_type": "code",
   "execution_count": 2,
   "id": "0251f4d7-a0d5-4695-94b6-4a40d56da196",
   "metadata": {},
   "outputs": [
    {
     "data": {
      "text/html": [
       "<div>\n",
       "<style scoped>\n",
       "    .dataframe tbody tr th:only-of-type {\n",
       "        vertical-align: middle;\n",
       "    }\n",
       "\n",
       "    .dataframe tbody tr th {\n",
       "        vertical-align: top;\n",
       "    }\n",
       "\n",
       "    .dataframe thead th {\n",
       "        text-align: right;\n",
       "    }\n",
       "</style>\n",
       "<table border=\"1\" class=\"dataframe\">\n",
       "  <thead>\n",
       "    <tr style=\"text-align: right;\">\n",
       "      <th></th>\n",
       "      <th>InvoiceNo</th>\n",
       "      <th>StockCode</th>\n",
       "      <th>Description</th>\n",
       "      <th>Quantity</th>\n",
       "      <th>InvoiceDate</th>\n",
       "      <th>UnitPrice</th>\n",
       "      <th>CustomerID</th>\n",
       "      <th>Country</th>\n",
       "    </tr>\n",
       "  </thead>\n",
       "  <tbody>\n",
       "    <tr>\n",
       "      <th>0</th>\n",
       "      <td>536365</td>\n",
       "      <td>85123A</td>\n",
       "      <td>WHITE HANGING HEART T-LIGHT HOLDER</td>\n",
       "      <td>6</td>\n",
       "      <td>2010-12-01 08:26:00</td>\n",
       "      <td>2.55</td>\n",
       "      <td>17850.0</td>\n",
       "      <td>United Kingdom</td>\n",
       "    </tr>\n",
       "    <tr>\n",
       "      <th>1</th>\n",
       "      <td>536365</td>\n",
       "      <td>71053</td>\n",
       "      <td>WHITE METAL LANTERN</td>\n",
       "      <td>6</td>\n",
       "      <td>2010-12-01 08:26:00</td>\n",
       "      <td>3.39</td>\n",
       "      <td>17850.0</td>\n",
       "      <td>United Kingdom</td>\n",
       "    </tr>\n",
       "    <tr>\n",
       "      <th>2</th>\n",
       "      <td>536365</td>\n",
       "      <td>84406B</td>\n",
       "      <td>CREAM CUPID HEARTS COAT HANGER</td>\n",
       "      <td>8</td>\n",
       "      <td>2010-12-01 08:26:00</td>\n",
       "      <td>2.75</td>\n",
       "      <td>17850.0</td>\n",
       "      <td>United Kingdom</td>\n",
       "    </tr>\n",
       "    <tr>\n",
       "      <th>3</th>\n",
       "      <td>536365</td>\n",
       "      <td>84029G</td>\n",
       "      <td>KNITTED UNION FLAG HOT WATER BOTTLE</td>\n",
       "      <td>6</td>\n",
       "      <td>2010-12-01 08:26:00</td>\n",
       "      <td>3.39</td>\n",
       "      <td>17850.0</td>\n",
       "      <td>United Kingdom</td>\n",
       "    </tr>\n",
       "    <tr>\n",
       "      <th>4</th>\n",
       "      <td>536365</td>\n",
       "      <td>84029E</td>\n",
       "      <td>RED WOOLLY HOTTIE WHITE HEART.</td>\n",
       "      <td>6</td>\n",
       "      <td>2010-12-01 08:26:00</td>\n",
       "      <td>3.39</td>\n",
       "      <td>17850.0</td>\n",
       "      <td>United Kingdom</td>\n",
       "    </tr>\n",
       "  </tbody>\n",
       "</table>\n",
       "</div>"
      ],
      "text/plain": [
       "  InvoiceNo StockCode                          Description  Quantity  \\\n",
       "0    536365    85123A   WHITE HANGING HEART T-LIGHT HOLDER         6   \n",
       "1    536365     71053                  WHITE METAL LANTERN         6   \n",
       "2    536365    84406B       CREAM CUPID HEARTS COAT HANGER         8   \n",
       "3    536365    84029G  KNITTED UNION FLAG HOT WATER BOTTLE         6   \n",
       "4    536365    84029E       RED WOOLLY HOTTIE WHITE HEART.         6   \n",
       "\n",
       "          InvoiceDate  UnitPrice  CustomerID         Country  \n",
       "0 2010-12-01 08:26:00       2.55     17850.0  United Kingdom  \n",
       "1 2010-12-01 08:26:00       3.39     17850.0  United Kingdom  \n",
       "2 2010-12-01 08:26:00       2.75     17850.0  United Kingdom  \n",
       "3 2010-12-01 08:26:00       3.39     17850.0  United Kingdom  \n",
       "4 2010-12-01 08:26:00       3.39     17850.0  United Kingdom  "
      ]
     },
     "execution_count": 2,
     "metadata": {},
     "output_type": "execute_result"
    }
   ],
   "source": [
    "# importing the dataset\n",
    "retail_data = pd.read_excel('Online Retail.xlsx')\n",
    "retail_data.head()"
   ]
  },
  {
   "cell_type": "code",
   "execution_count": 3,
   "id": "4f80253b-0264-439f-bc08-ec29bdd412ac",
   "metadata": {},
   "outputs": [
    {
     "data": {
      "text/plain": [
       "(541909, 8)"
      ]
     },
     "execution_count": 3,
     "metadata": {},
     "output_type": "execute_result"
    }
   ],
   "source": [
    "retail_data.shape"
   ]
  },
  {
   "cell_type": "code",
   "execution_count": 4,
   "id": "68f79ea6-608e-4c8a-b36a-c7cadc8f979b",
   "metadata": {},
   "outputs": [
    {
     "name": "stdout",
     "output_type": "stream",
     "text": [
      "<class 'pandas.core.frame.DataFrame'>\n",
      "RangeIndex: 541909 entries, 0 to 541908\n",
      "Data columns (total 8 columns):\n",
      " #   Column       Non-Null Count   Dtype         \n",
      "---  ------       --------------   -----         \n",
      " 0   InvoiceNo    541909 non-null  object        \n",
      " 1   StockCode    541909 non-null  object        \n",
      " 2   Description  540455 non-null  object        \n",
      " 3   Quantity     541909 non-null  int64         \n",
      " 4   InvoiceDate  541909 non-null  datetime64[ns]\n",
      " 5   UnitPrice    541909 non-null  float64       \n",
      " 6   CustomerID   406829 non-null  float64       \n",
      " 7   Country      541909 non-null  object        \n",
      "dtypes: datetime64[ns](1), float64(2), int64(1), object(4)\n",
      "memory usage: 33.1+ MB\n"
     ]
    }
   ],
   "source": [
    "retail_data.info()"
   ]
  },
  {
   "cell_type": "code",
   "execution_count": 5,
   "id": "bf043be9-4d20-4759-b78d-2c1f9891189f",
   "metadata": {},
   "outputs": [
    {
     "data": {
      "text/plain": [
       "InvoiceNo           0\n",
       "StockCode           0\n",
       "Description      1454\n",
       "Quantity            0\n",
       "InvoiceDate         0\n",
       "UnitPrice           0\n",
       "CustomerID     135080\n",
       "Country             0\n",
       "dtype: int64"
      ]
     },
     "execution_count": 5,
     "metadata": {},
     "output_type": "execute_result"
    }
   ],
   "source": [
    "retail_data.isnull().sum()"
   ]
  },
  {
   "cell_type": "markdown",
   "id": "d7479fd9-112e-4195-b0c9-f8eeb936358e",
   "metadata": {},
   "source": [
    "## Data Cleaning"
   ]
  },
  {
   "cell_type": "markdown",
   "id": "464a28a1-cd45-4c2c-af27-7ac3360ee138",
   "metadata": {},
   "source": [
    "### Removing all duplicate entries"
   ]
  },
  {
   "cell_type": "code",
   "execution_count": 6,
   "id": "60b56d7f-7101-480f-94da-f79efc90004c",
   "metadata": {},
   "outputs": [
    {
     "data": {
      "text/plain": [
       "5268"
      ]
     },
     "execution_count": 6,
     "metadata": {},
     "output_type": "execute_result"
    }
   ],
   "source": [
    "retail_data.duplicated().sum()"
   ]
  },
  {
   "cell_type": "code",
   "execution_count": 7,
   "id": "d25c3a85-3994-4fe8-9493-a038c8217be5",
   "metadata": {},
   "outputs": [
    {
     "data": {
      "text/plain": [
       "(536641, 8)"
      ]
     },
     "execution_count": 7,
     "metadata": {},
     "output_type": "execute_result"
    }
   ],
   "source": [
    "# removing all duplicate transactions\n",
    "retail_data = retail_data[~retail_data.duplicated()]\n",
    "retail_data.shape"
   ]
  },
  {
   "cell_type": "markdown",
   "id": "b20e9ace-33c5-424f-8f84-30ba53a27b13",
   "metadata": {},
   "source": [
    "### Removing transactions with no customer id"
   ]
  },
  {
   "cell_type": "code",
   "execution_count": 8,
   "id": "3d22311e-f998-468d-9f73-e6b414b5fc84",
   "metadata": {},
   "outputs": [
    {
     "data": {
      "text/plain": [
       "(401604, 8)"
      ]
     },
     "execution_count": 8,
     "metadata": {},
     "output_type": "execute_result"
    }
   ],
   "source": [
    "# removing transaction with no customer id\n",
    "retail_data = retail_data.dropna()\n",
    "retail_data.shape"
   ]
  },
  {
   "cell_type": "markdown",
   "id": "3caf720f-2ed2-47ec-aace-5079752d0e0c",
   "metadata": {},
   "source": [
    "Invoice No"
   ]
  },
  {
   "cell_type": "code",
   "execution_count": 9,
   "id": "01d6293b-31cd-4f22-8a11-288a22732c8b",
   "metadata": {},
   "outputs": [
    {
     "data": {
      "text/plain": [
       "(392732, 8)"
      ]
     },
     "execution_count": 9,
     "metadata": {},
     "output_type": "execute_result"
    }
   ],
   "source": [
    "# Invoice number that starts with letter 'c', indicates a cancellation.\n",
    "# So, we remove all such cancelled orders from the dataset\n",
    "retail_data = retail_data[retail_data['InvoiceNo'].str.startswith('C')!=True]\n",
    "retail_data.shape"
   ]
  },
  {
   "cell_type": "code",
   "execution_count": 10,
   "id": "985b8ccc-c324-46e8-b41c-ae82a25797bf",
   "metadata": {},
   "outputs": [
    {
     "data": {
      "text/plain": [
       "18536"
      ]
     },
     "execution_count": 10,
     "metadata": {},
     "output_type": "execute_result"
    }
   ],
   "source": [
    "# no. of unique transactions\n",
    "retail_data['InvoiceNo'].nunique()"
   ]
  },
  {
   "cell_type": "markdown",
   "id": "1191c182-94ce-440f-b9e9-5ef91ff5c98d",
   "metadata": {},
   "source": [
    "StockCode"
   ]
  },
  {
   "cell_type": "code",
   "execution_count": 11,
   "id": "790c8b8a-0f39-4555-860e-3c8df9f77ab0",
   "metadata": {},
   "outputs": [
    {
     "data": {
      "text/plain": [
       "3665"
      ]
     },
     "execution_count": 11,
     "metadata": {},
     "output_type": "execute_result"
    }
   ],
   "source": [
    "# no. of unique products sold by the retailer\n",
    "retail_data['StockCode'].nunique()"
   ]
  },
  {
   "cell_type": "code",
   "execution_count": 12,
   "id": "8b2bbf8d-10e0-4839-879c-cb72d882280d",
   "metadata": {},
   "outputs": [
    {
     "data": {
      "text/plain": [
       "85123A    2023\n",
       "22423     1714\n",
       "85099B    1615\n",
       "84879     1395\n",
       "47566     1390\n",
       "20725     1304\n",
       "22720     1152\n",
       "POST      1099\n",
       "23203     1091\n",
       "20727     1078\n",
       "Name: StockCode, dtype: int64"
      ]
     },
     "execution_count": 12,
     "metadata": {},
     "output_type": "execute_result"
    }
   ],
   "source": [
    "retail_data['StockCode'].value_counts().head(10)"
   ]
  },
  {
   "cell_type": "code",
   "execution_count": 13,
   "id": "a3e52455-eca1-407c-9e6a-635ba3f2cca0",
   "metadata": {},
   "outputs": [
    {
     "data": {
      "text/html": [
       "<div>\n",
       "<style scoped>\n",
       "    .dataframe tbody tr th:only-of-type {\n",
       "        vertical-align: middle;\n",
       "    }\n",
       "\n",
       "    .dataframe tbody tr th {\n",
       "        vertical-align: top;\n",
       "    }\n",
       "\n",
       "    .dataframe thead th {\n",
       "        text-align: right;\n",
       "    }\n",
       "</style>\n",
       "<table border=\"1\" class=\"dataframe\">\n",
       "  <thead>\n",
       "    <tr style=\"text-align: right;\">\n",
       "      <th></th>\n",
       "      <th>Quantity</th>\n",
       "      <th>UnitPrice</th>\n",
       "      <th>CustomerID</th>\n",
       "    </tr>\n",
       "  </thead>\n",
       "  <tbody>\n",
       "    <tr>\n",
       "      <th>count</th>\n",
       "      <td>392732.000000</td>\n",
       "      <td>392732.000000</td>\n",
       "      <td>392732.000000</td>\n",
       "    </tr>\n",
       "    <tr>\n",
       "      <th>mean</th>\n",
       "      <td>13.153718</td>\n",
       "      <td>3.125596</td>\n",
       "      <td>15287.734822</td>\n",
       "    </tr>\n",
       "    <tr>\n",
       "      <th>std</th>\n",
       "      <td>181.588420</td>\n",
       "      <td>22.240725</td>\n",
       "      <td>1713.567773</td>\n",
       "    </tr>\n",
       "    <tr>\n",
       "      <th>min</th>\n",
       "      <td>1.000000</td>\n",
       "      <td>0.000000</td>\n",
       "      <td>12346.000000</td>\n",
       "    </tr>\n",
       "    <tr>\n",
       "      <th>25%</th>\n",
       "      <td>2.000000</td>\n",
       "      <td>1.250000</td>\n",
       "      <td>13955.000000</td>\n",
       "    </tr>\n",
       "    <tr>\n",
       "      <th>50%</th>\n",
       "      <td>6.000000</td>\n",
       "      <td>1.950000</td>\n",
       "      <td>15150.000000</td>\n",
       "    </tr>\n",
       "    <tr>\n",
       "      <th>75%</th>\n",
       "      <td>12.000000</td>\n",
       "      <td>3.750000</td>\n",
       "      <td>16791.000000</td>\n",
       "    </tr>\n",
       "    <tr>\n",
       "      <th>max</th>\n",
       "      <td>80995.000000</td>\n",
       "      <td>8142.750000</td>\n",
       "      <td>18287.000000</td>\n",
       "    </tr>\n",
       "  </tbody>\n",
       "</table>\n",
       "</div>"
      ],
      "text/plain": [
       "            Quantity      UnitPrice     CustomerID\n",
       "count  392732.000000  392732.000000  392732.000000\n",
       "mean       13.153718       3.125596   15287.734822\n",
       "std       181.588420      22.240725    1713.567773\n",
       "min         1.000000       0.000000   12346.000000\n",
       "25%         2.000000       1.250000   13955.000000\n",
       "50%         6.000000       1.950000   15150.000000\n",
       "75%        12.000000       3.750000   16791.000000\n",
       "max     80995.000000    8142.750000   18287.000000"
      ]
     },
     "execution_count": 13,
     "metadata": {},
     "output_type": "execute_result"
    }
   ],
   "source": [
    "retail_data.describe()"
   ]
  },
  {
   "cell_type": "markdown",
   "id": "33db75ac-8411-44bd-9455-36c9d61b5c9c",
   "metadata": {},
   "source": [
    "Unit Price and Quantity"
   ]
  },
  {
   "cell_type": "code",
   "execution_count": 14,
   "id": "a77fb33f-7fde-4182-a433-1ec534e61a8d",
   "metadata": {},
   "outputs": [
    {
     "data": {
      "text/html": [
       "<div>\n",
       "<style scoped>\n",
       "    .dataframe tbody tr th:only-of-type {\n",
       "        vertical-align: middle;\n",
       "    }\n",
       "\n",
       "    .dataframe tbody tr th {\n",
       "        vertical-align: top;\n",
       "    }\n",
       "\n",
       "    .dataframe thead th {\n",
       "        text-align: right;\n",
       "    }\n",
       "</style>\n",
       "<table border=\"1\" class=\"dataframe\">\n",
       "  <thead>\n",
       "    <tr style=\"text-align: right;\">\n",
       "      <th></th>\n",
       "      <th>count</th>\n",
       "      <th>mean</th>\n",
       "      <th>std</th>\n",
       "      <th>min</th>\n",
       "      <th>25%</th>\n",
       "      <th>50%</th>\n",
       "      <th>75%</th>\n",
       "      <th>max</th>\n",
       "    </tr>\n",
       "  </thead>\n",
       "  <tbody>\n",
       "    <tr>\n",
       "      <th>Quantity</th>\n",
       "      <td>392692.0</td>\n",
       "      <td>13.119702</td>\n",
       "      <td>180.492832</td>\n",
       "      <td>1.000</td>\n",
       "      <td>2.00</td>\n",
       "      <td>6.00</td>\n",
       "      <td>12.00</td>\n",
       "      <td>80995.00</td>\n",
       "    </tr>\n",
       "    <tr>\n",
       "      <th>UnitPrice</th>\n",
       "      <td>392692.0</td>\n",
       "      <td>3.125914</td>\n",
       "      <td>22.241836</td>\n",
       "      <td>0.001</td>\n",
       "      <td>1.25</td>\n",
       "      <td>1.95</td>\n",
       "      <td>3.75</td>\n",
       "      <td>8142.75</td>\n",
       "    </tr>\n",
       "    <tr>\n",
       "      <th>CustomerID</th>\n",
       "      <td>392692.0</td>\n",
       "      <td>15287.843865</td>\n",
       "      <td>1713.539549</td>\n",
       "      <td>12346.000</td>\n",
       "      <td>13955.00</td>\n",
       "      <td>15150.00</td>\n",
       "      <td>16791.00</td>\n",
       "      <td>18287.00</td>\n",
       "    </tr>\n",
       "  </tbody>\n",
       "</table>\n",
       "</div>"
      ],
      "text/plain": [
       "               count          mean          std        min       25%  \\\n",
       "Quantity    392692.0     13.119702   180.492832      1.000      2.00   \n",
       "UnitPrice   392692.0      3.125914    22.241836      0.001      1.25   \n",
       "CustomerID  392692.0  15287.843865  1713.539549  12346.000  13955.00   \n",
       "\n",
       "                 50%       75%       max  \n",
       "Quantity        6.00     12.00  80995.00  \n",
       "UnitPrice       1.95      3.75   8142.75  \n",
       "CustomerID  15150.00  16791.00  18287.00  "
      ]
     },
     "execution_count": 14,
     "metadata": {},
     "output_type": "execute_result"
    }
   ],
   "source": [
    "# we will only consider transactions that have unit price greater than 0\n",
    "retail_data = retail_data[retail_data['UnitPrice']>0]\n",
    "retail_data.describe().T"
   ]
  },
  {
   "cell_type": "code",
   "execution_count": 15,
   "id": "afd765c7-4126-4538-a4dc-3f0412e49c29",
   "metadata": {},
   "outputs": [
    {
     "data": {
      "text/plain": [
       "(392692, 8)"
      ]
     },
     "execution_count": 15,
     "metadata": {},
     "output_type": "execute_result"
    }
   ],
   "source": [
    "retail_data.shape"
   ]
  },
  {
   "cell_type": "code",
   "execution_count": 16,
   "id": "3b4c2955-28b6-4e0a-8e6e-ea8074160515",
   "metadata": {},
   "outputs": [
    {
     "data": {
      "text/plain": [
       "4338"
      ]
     },
     "execution_count": 16,
     "metadata": {},
     "output_type": "execute_result"
    }
   ],
   "source": [
    "retail_data['CustomerID'].nunique()"
   ]
  },
  {
   "cell_type": "markdown",
   "id": "80d4e9b0-13a8-4157-bcfa-84dd65a62387",
   "metadata": {},
   "source": [
    "# Cohort Analysis"
   ]
  },
  {
   "cell_type": "markdown",
   "id": "d5b8c07c-884a-42b6-b335-a94488d6d276",
   "metadata": {},
   "source": [
    "Cohort analysis is done to understand how different customers interact with different products and use those insights to retain those customers. Customer retention is a very useful metric to understand how many of all the customers are still active. It is calculated as percentage of active customers out of total customers."
   ]
  },
  {
   "cell_type": "code",
   "execution_count": 30,
   "id": "3cb662ff-163d-436e-907c-d20b5107a958",
   "metadata": {
    "tags": []
   },
   "outputs": [
    {
     "data": {
      "text/html": [
       "<div>\n",
       "<style scoped>\n",
       "    .dataframe tbody tr th:only-of-type {\n",
       "        vertical-align: middle;\n",
       "    }\n",
       "\n",
       "    .dataframe tbody tr th {\n",
       "        vertical-align: top;\n",
       "    }\n",
       "\n",
       "    .dataframe thead th {\n",
       "        text-align: right;\n",
       "    }\n",
       "</style>\n",
       "<table border=\"1\" class=\"dataframe\">\n",
       "  <thead>\n",
       "    <tr style=\"text-align: right;\">\n",
       "      <th></th>\n",
       "      <th>InvoiceNo</th>\n",
       "      <th>StockCode</th>\n",
       "      <th>Description</th>\n",
       "      <th>Quantity</th>\n",
       "      <th>InvoiceDate</th>\n",
       "      <th>UnitPrice</th>\n",
       "      <th>CustomerID</th>\n",
       "      <th>Country</th>\n",
       "      <th>InvoiceDay</th>\n",
       "      <th>CohortDay</th>\n",
       "      <th>CohortIndex</th>\n",
       "      <th>InvoiceMonth</th>\n",
       "      <th>CohortMonth</th>\n",
       "    </tr>\n",
       "  </thead>\n",
       "  <tbody>\n",
       "    <tr>\n",
       "      <th>541904</th>\n",
       "      <td>581587</td>\n",
       "      <td>22613</td>\n",
       "      <td>PACK OF 20 SPACEBOY NAPKINS</td>\n",
       "      <td>12</td>\n",
       "      <td>2011-12-09 12:50:00</td>\n",
       "      <td>0.85</td>\n",
       "      <td>12680.0</td>\n",
       "      <td>France</td>\n",
       "      <td>2011-12-09</td>\n",
       "      <td>2011-08-18</td>\n",
       "      <td>112</td>\n",
       "      <td>2011-12-01</td>\n",
       "      <td>2011-08-01</td>\n",
       "    </tr>\n",
       "    <tr>\n",
       "      <th>541905</th>\n",
       "      <td>581587</td>\n",
       "      <td>22899</td>\n",
       "      <td>CHILDREN'S APRON DOLLY GIRL</td>\n",
       "      <td>6</td>\n",
       "      <td>2011-12-09 12:50:00</td>\n",
       "      <td>2.10</td>\n",
       "      <td>12680.0</td>\n",
       "      <td>France</td>\n",
       "      <td>2011-12-09</td>\n",
       "      <td>2011-08-18</td>\n",
       "      <td>112</td>\n",
       "      <td>2011-12-01</td>\n",
       "      <td>2011-08-01</td>\n",
       "    </tr>\n",
       "    <tr>\n",
       "      <th>541906</th>\n",
       "      <td>581587</td>\n",
       "      <td>23254</td>\n",
       "      <td>CHILDRENS CUTLERY DOLLY GIRL</td>\n",
       "      <td>4</td>\n",
       "      <td>2011-12-09 12:50:00</td>\n",
       "      <td>4.15</td>\n",
       "      <td>12680.0</td>\n",
       "      <td>France</td>\n",
       "      <td>2011-12-09</td>\n",
       "      <td>2011-08-18</td>\n",
       "      <td>112</td>\n",
       "      <td>2011-12-01</td>\n",
       "      <td>2011-08-01</td>\n",
       "    </tr>\n",
       "    <tr>\n",
       "      <th>541907</th>\n",
       "      <td>581587</td>\n",
       "      <td>23255</td>\n",
       "      <td>CHILDRENS CUTLERY CIRCUS PARADE</td>\n",
       "      <td>4</td>\n",
       "      <td>2011-12-09 12:50:00</td>\n",
       "      <td>4.15</td>\n",
       "      <td>12680.0</td>\n",
       "      <td>France</td>\n",
       "      <td>2011-12-09</td>\n",
       "      <td>2011-08-18</td>\n",
       "      <td>112</td>\n",
       "      <td>2011-12-01</td>\n",
       "      <td>2011-08-01</td>\n",
       "    </tr>\n",
       "    <tr>\n",
       "      <th>541908</th>\n",
       "      <td>581587</td>\n",
       "      <td>22138</td>\n",
       "      <td>BAKING SET 9 PIECE RETROSPOT</td>\n",
       "      <td>3</td>\n",
       "      <td>2011-12-09 12:50:00</td>\n",
       "      <td>4.95</td>\n",
       "      <td>12680.0</td>\n",
       "      <td>France</td>\n",
       "      <td>2011-12-09</td>\n",
       "      <td>2011-08-18</td>\n",
       "      <td>112</td>\n",
       "      <td>2011-12-01</td>\n",
       "      <td>2011-08-01</td>\n",
       "    </tr>\n",
       "  </tbody>\n",
       "</table>\n",
       "</div>"
      ],
      "text/plain": [
       "       InvoiceNo StockCode                      Description  Quantity  \\\n",
       "541904    581587     22613      PACK OF 20 SPACEBOY NAPKINS        12   \n",
       "541905    581587     22899     CHILDREN'S APRON DOLLY GIRL          6   \n",
       "541906    581587     23254    CHILDRENS CUTLERY DOLLY GIRL          4   \n",
       "541907    581587     23255  CHILDRENS CUTLERY CIRCUS PARADE         4   \n",
       "541908    581587     22138    BAKING SET 9 PIECE RETROSPOT          3   \n",
       "\n",
       "               InvoiceDate  UnitPrice  CustomerID Country InvoiceDay  \\\n",
       "541904 2011-12-09 12:50:00       0.85     12680.0  France 2011-12-09   \n",
       "541905 2011-12-09 12:50:00       2.10     12680.0  France 2011-12-09   \n",
       "541906 2011-12-09 12:50:00       4.15     12680.0  France 2011-12-09   \n",
       "541907 2011-12-09 12:50:00       4.15     12680.0  France 2011-12-09   \n",
       "541908 2011-12-09 12:50:00       4.95     12680.0  France 2011-12-09   \n",
       "\n",
       "        CohortDay  CohortIndex InvoiceMonth CohortMonth  \n",
       "541904 2011-08-18          112   2011-12-01  2011-08-01  \n",
       "541905 2011-08-18          112   2011-12-01  2011-08-01  \n",
       "541906 2011-08-18          112   2011-12-01  2011-08-01  \n",
       "541907 2011-08-18          112   2011-12-01  2011-08-01  \n",
       "541908 2011-08-18          112   2011-12-01  2011-08-01  "
      ]
     },
     "execution_count": 30,
     "metadata": {},
     "output_type": "execute_result"
    }
   ],
   "source": [
    "# define a function that will parse the date\n",
    "import datetime as dt\n",
    "def get_month(x): return dt.datetime(x.year, x.month, 1)\n",
    "\n",
    "# create InvioceDay column\n",
    "retail_data['InvoiceMonth'] = retail_data['InvoiceDate'].apply(get_month)\n",
    "\n",
    "# create a groupby object that groups CustomerID variable, and selects InvoiceDay for further calculations\n",
    "grouping = retail_data.groupby('CustomerID')['InvoiceMonth']\n",
    "\n",
    "# Assign a minimum InvoiceDay value to the dataset\n",
    "retail_data['CohortMonth'] = grouping.transform('min')\n",
    "\n",
    "retail_data.tail(5)"
   ]
  },
  {
   "cell_type": "code",
   "execution_count": 31,
   "id": "10f61992-8058-45a2-8953-7a3954b90226",
   "metadata": {},
   "outputs": [],
   "source": [
    "def get_month_int(df, column):\n",
    "    year = df[column].dt.year\n",
    "    month = df[column].dt.month\n",
    "    day = df[column].dt.day\n",
    "    return year, month, day"
   ]
  },
  {
   "cell_type": "code",
   "execution_count": 33,
   "id": "f947558f-2c09-4fb9-8a7d-2ddf4ea1eca3",
   "metadata": {},
   "outputs": [],
   "source": [
    "# get the integers for date parts from the InvoiceDay column\n",
    "invoice_year, invoice_month, _ = get_month_int(retail_data, 'InvoiceMonth')\n",
    "\n",
    "# Get the integers for date parts from the `CohortDay` column\n",
    "cohort_year, cohort_month, _ = get_month_int(retail_data, 'CohortMonth')"
   ]
  },
  {
   "cell_type": "code",
   "execution_count": 34,
   "id": "bb18080f-d7c1-4b93-9328-5aef8b94b884",
   "metadata": {},
   "outputs": [
    {
     "data": {
      "text/html": [
       "<div>\n",
       "<style scoped>\n",
       "    .dataframe tbody tr th:only-of-type {\n",
       "        vertical-align: middle;\n",
       "    }\n",
       "\n",
       "    .dataframe tbody tr th {\n",
       "        vertical-align: top;\n",
       "    }\n",
       "\n",
       "    .dataframe thead th {\n",
       "        text-align: right;\n",
       "    }\n",
       "</style>\n",
       "<table border=\"1\" class=\"dataframe\">\n",
       "  <thead>\n",
       "    <tr style=\"text-align: right;\">\n",
       "      <th></th>\n",
       "      <th>InvoiceNo</th>\n",
       "      <th>StockCode</th>\n",
       "      <th>Description</th>\n",
       "      <th>Quantity</th>\n",
       "      <th>InvoiceDate</th>\n",
       "      <th>UnitPrice</th>\n",
       "      <th>CustomerID</th>\n",
       "      <th>Country</th>\n",
       "      <th>InvoiceDay</th>\n",
       "      <th>CohortDay</th>\n",
       "      <th>CohortIndex</th>\n",
       "      <th>InvoiceMonth</th>\n",
       "      <th>CohortMonth</th>\n",
       "    </tr>\n",
       "  </thead>\n",
       "  <tbody>\n",
       "    <tr>\n",
       "      <th>541904</th>\n",
       "      <td>581587</td>\n",
       "      <td>22613</td>\n",
       "      <td>PACK OF 20 SPACEBOY NAPKINS</td>\n",
       "      <td>12</td>\n",
       "      <td>2011-12-09 12:50:00</td>\n",
       "      <td>0.85</td>\n",
       "      <td>12680.0</td>\n",
       "      <td>France</td>\n",
       "      <td>2011-12-09</td>\n",
       "      <td>2011-08-18</td>\n",
       "      <td>5</td>\n",
       "      <td>2011-12-01</td>\n",
       "      <td>2011-08-01</td>\n",
       "    </tr>\n",
       "    <tr>\n",
       "      <th>541905</th>\n",
       "      <td>581587</td>\n",
       "      <td>22899</td>\n",
       "      <td>CHILDREN'S APRON DOLLY GIRL</td>\n",
       "      <td>6</td>\n",
       "      <td>2011-12-09 12:50:00</td>\n",
       "      <td>2.10</td>\n",
       "      <td>12680.0</td>\n",
       "      <td>France</td>\n",
       "      <td>2011-12-09</td>\n",
       "      <td>2011-08-18</td>\n",
       "      <td>5</td>\n",
       "      <td>2011-12-01</td>\n",
       "      <td>2011-08-01</td>\n",
       "    </tr>\n",
       "    <tr>\n",
       "      <th>541906</th>\n",
       "      <td>581587</td>\n",
       "      <td>23254</td>\n",
       "      <td>CHILDRENS CUTLERY DOLLY GIRL</td>\n",
       "      <td>4</td>\n",
       "      <td>2011-12-09 12:50:00</td>\n",
       "      <td>4.15</td>\n",
       "      <td>12680.0</td>\n",
       "      <td>France</td>\n",
       "      <td>2011-12-09</td>\n",
       "      <td>2011-08-18</td>\n",
       "      <td>5</td>\n",
       "      <td>2011-12-01</td>\n",
       "      <td>2011-08-01</td>\n",
       "    </tr>\n",
       "    <tr>\n",
       "      <th>541907</th>\n",
       "      <td>581587</td>\n",
       "      <td>23255</td>\n",
       "      <td>CHILDRENS CUTLERY CIRCUS PARADE</td>\n",
       "      <td>4</td>\n",
       "      <td>2011-12-09 12:50:00</td>\n",
       "      <td>4.15</td>\n",
       "      <td>12680.0</td>\n",
       "      <td>France</td>\n",
       "      <td>2011-12-09</td>\n",
       "      <td>2011-08-18</td>\n",
       "      <td>5</td>\n",
       "      <td>2011-12-01</td>\n",
       "      <td>2011-08-01</td>\n",
       "    </tr>\n",
       "    <tr>\n",
       "      <th>541908</th>\n",
       "      <td>581587</td>\n",
       "      <td>22138</td>\n",
       "      <td>BAKING SET 9 PIECE RETROSPOT</td>\n",
       "      <td>3</td>\n",
       "      <td>2011-12-09 12:50:00</td>\n",
       "      <td>4.95</td>\n",
       "      <td>12680.0</td>\n",
       "      <td>France</td>\n",
       "      <td>2011-12-09</td>\n",
       "      <td>2011-08-18</td>\n",
       "      <td>5</td>\n",
       "      <td>2011-12-01</td>\n",
       "      <td>2011-08-01</td>\n",
       "    </tr>\n",
       "  </tbody>\n",
       "</table>\n",
       "</div>"
      ],
      "text/plain": [
       "       InvoiceNo StockCode                      Description  Quantity  \\\n",
       "541904    581587     22613      PACK OF 20 SPACEBOY NAPKINS        12   \n",
       "541905    581587     22899     CHILDREN'S APRON DOLLY GIRL          6   \n",
       "541906    581587     23254    CHILDRENS CUTLERY DOLLY GIRL          4   \n",
       "541907    581587     23255  CHILDRENS CUTLERY CIRCUS PARADE         4   \n",
       "541908    581587     22138    BAKING SET 9 PIECE RETROSPOT          3   \n",
       "\n",
       "               InvoiceDate  UnitPrice  CustomerID Country InvoiceDay  \\\n",
       "541904 2011-12-09 12:50:00       0.85     12680.0  France 2011-12-09   \n",
       "541905 2011-12-09 12:50:00       2.10     12680.0  France 2011-12-09   \n",
       "541906 2011-12-09 12:50:00       4.15     12680.0  France 2011-12-09   \n",
       "541907 2011-12-09 12:50:00       4.15     12680.0  France 2011-12-09   \n",
       "541908 2011-12-09 12:50:00       4.95     12680.0  France 2011-12-09   \n",
       "\n",
       "        CohortDay  CohortIndex InvoiceMonth CohortMonth  \n",
       "541904 2011-08-18            5   2011-12-01  2011-08-01  \n",
       "541905 2011-08-18            5   2011-12-01  2011-08-01  \n",
       "541906 2011-08-18            5   2011-12-01  2011-08-01  \n",
       "541907 2011-08-18            5   2011-12-01  2011-08-01  \n",
       "541908 2011-08-18            5   2011-12-01  2011-08-01  "
      ]
     },
     "execution_count": 34,
     "metadata": {},
     "output_type": "execute_result"
    }
   ],
   "source": [
    "# Calculate difference in years\n",
    "years_diff = invoice_year - cohort_year\n",
    "\n",
    "# Calculate difference in months\n",
    "months_diff = invoice_month - cohort_month\n",
    "\n",
    "# Calculate difference in days\n",
    "days_diff = invoice_day - cohort_day\n",
    "\n",
    "# Extract the difference in days from all previous values\n",
    "retail_data['CohortIndex'] = years_diff * 12 + months_diff + 1\n",
    "retail_data.tail()"
   ]
  },
  {
   "cell_type": "markdown",
   "id": "1ecb8875-7aab-4f36-80cf-1614985a666a",
   "metadata": {},
   "source": [
    "We will calculate the following cohort metrics\n",
    "1. Retention Rate per cohort\n",
    "2. Average Quantity per cohort\n",
    "3. Average price per cohort\n",
    "4. Average amount spend per cohort"
   ]
  },
  {
   "cell_type": "code",
   "execution_count": 35,
   "id": "922b49b2-3272-4e01-9d05-a410c822aa3c",
   "metadata": {},
   "outputs": [
    {
     "data": {
      "text/html": [
       "<div>\n",
       "<style scoped>\n",
       "    .dataframe tbody tr th:only-of-type {\n",
       "        vertical-align: middle;\n",
       "    }\n",
       "\n",
       "    .dataframe tbody tr th {\n",
       "        vertical-align: top;\n",
       "    }\n",
       "\n",
       "    .dataframe thead th {\n",
       "        text-align: right;\n",
       "    }\n",
       "</style>\n",
       "<table border=\"1\" class=\"dataframe\">\n",
       "  <thead>\n",
       "    <tr style=\"text-align: right;\">\n",
       "      <th>CohortIndex</th>\n",
       "      <th>1</th>\n",
       "      <th>2</th>\n",
       "      <th>3</th>\n",
       "      <th>4</th>\n",
       "      <th>5</th>\n",
       "      <th>6</th>\n",
       "      <th>7</th>\n",
       "      <th>8</th>\n",
       "      <th>9</th>\n",
       "      <th>10</th>\n",
       "      <th>11</th>\n",
       "      <th>12</th>\n",
       "      <th>13</th>\n",
       "    </tr>\n",
       "    <tr>\n",
       "      <th>CohortMonth</th>\n",
       "      <th></th>\n",
       "      <th></th>\n",
       "      <th></th>\n",
       "      <th></th>\n",
       "      <th></th>\n",
       "      <th></th>\n",
       "      <th></th>\n",
       "      <th></th>\n",
       "      <th></th>\n",
       "      <th></th>\n",
       "      <th></th>\n",
       "      <th></th>\n",
       "      <th></th>\n",
       "    </tr>\n",
       "  </thead>\n",
       "  <tbody>\n",
       "    <tr>\n",
       "      <th>2010-12-01</th>\n",
       "      <td>885.0</td>\n",
       "      <td>324.0</td>\n",
       "      <td>286.0</td>\n",
       "      <td>340.0</td>\n",
       "      <td>321.0</td>\n",
       "      <td>352.0</td>\n",
       "      <td>321.0</td>\n",
       "      <td>309.0</td>\n",
       "      <td>313.0</td>\n",
       "      <td>350.0</td>\n",
       "      <td>331.0</td>\n",
       "      <td>445.0</td>\n",
       "      <td>235.0</td>\n",
       "    </tr>\n",
       "    <tr>\n",
       "      <th>2011-01-01</th>\n",
       "      <td>417.0</td>\n",
       "      <td>92.0</td>\n",
       "      <td>111.0</td>\n",
       "      <td>96.0</td>\n",
       "      <td>134.0</td>\n",
       "      <td>120.0</td>\n",
       "      <td>103.0</td>\n",
       "      <td>101.0</td>\n",
       "      <td>125.0</td>\n",
       "      <td>136.0</td>\n",
       "      <td>152.0</td>\n",
       "      <td>49.0</td>\n",
       "      <td>NaN</td>\n",
       "    </tr>\n",
       "    <tr>\n",
       "      <th>2011-02-01</th>\n",
       "      <td>380.0</td>\n",
       "      <td>71.0</td>\n",
       "      <td>71.0</td>\n",
       "      <td>108.0</td>\n",
       "      <td>103.0</td>\n",
       "      <td>94.0</td>\n",
       "      <td>96.0</td>\n",
       "      <td>106.0</td>\n",
       "      <td>94.0</td>\n",
       "      <td>116.0</td>\n",
       "      <td>26.0</td>\n",
       "      <td>NaN</td>\n",
       "      <td>NaN</td>\n",
       "    </tr>\n",
       "    <tr>\n",
       "      <th>2011-03-01</th>\n",
       "      <td>452.0</td>\n",
       "      <td>68.0</td>\n",
       "      <td>114.0</td>\n",
       "      <td>90.0</td>\n",
       "      <td>101.0</td>\n",
       "      <td>76.0</td>\n",
       "      <td>121.0</td>\n",
       "      <td>104.0</td>\n",
       "      <td>126.0</td>\n",
       "      <td>39.0</td>\n",
       "      <td>NaN</td>\n",
       "      <td>NaN</td>\n",
       "      <td>NaN</td>\n",
       "    </tr>\n",
       "    <tr>\n",
       "      <th>2011-04-01</th>\n",
       "      <td>300.0</td>\n",
       "      <td>64.0</td>\n",
       "      <td>61.0</td>\n",
       "      <td>63.0</td>\n",
       "      <td>59.0</td>\n",
       "      <td>68.0</td>\n",
       "      <td>65.0</td>\n",
       "      <td>78.0</td>\n",
       "      <td>22.0</td>\n",
       "      <td>NaN</td>\n",
       "      <td>NaN</td>\n",
       "      <td>NaN</td>\n",
       "      <td>NaN</td>\n",
       "    </tr>\n",
       "    <tr>\n",
       "      <th>2011-05-01</th>\n",
       "      <td>284.0</td>\n",
       "      <td>54.0</td>\n",
       "      <td>49.0</td>\n",
       "      <td>49.0</td>\n",
       "      <td>59.0</td>\n",
       "      <td>66.0</td>\n",
       "      <td>75.0</td>\n",
       "      <td>27.0</td>\n",
       "      <td>NaN</td>\n",
       "      <td>NaN</td>\n",
       "      <td>NaN</td>\n",
       "      <td>NaN</td>\n",
       "      <td>NaN</td>\n",
       "    </tr>\n",
       "    <tr>\n",
       "      <th>2011-06-01</th>\n",
       "      <td>242.0</td>\n",
       "      <td>42.0</td>\n",
       "      <td>38.0</td>\n",
       "      <td>64.0</td>\n",
       "      <td>56.0</td>\n",
       "      <td>81.0</td>\n",
       "      <td>23.0</td>\n",
       "      <td>NaN</td>\n",
       "      <td>NaN</td>\n",
       "      <td>NaN</td>\n",
       "      <td>NaN</td>\n",
       "      <td>NaN</td>\n",
       "      <td>NaN</td>\n",
       "    </tr>\n",
       "    <tr>\n",
       "      <th>2011-07-01</th>\n",
       "      <td>188.0</td>\n",
       "      <td>34.0</td>\n",
       "      <td>39.0</td>\n",
       "      <td>42.0</td>\n",
       "      <td>51.0</td>\n",
       "      <td>21.0</td>\n",
       "      <td>NaN</td>\n",
       "      <td>NaN</td>\n",
       "      <td>NaN</td>\n",
       "      <td>NaN</td>\n",
       "      <td>NaN</td>\n",
       "      <td>NaN</td>\n",
       "      <td>NaN</td>\n",
       "    </tr>\n",
       "    <tr>\n",
       "      <th>2011-08-01</th>\n",
       "      <td>169.0</td>\n",
       "      <td>35.0</td>\n",
       "      <td>42.0</td>\n",
       "      <td>41.0</td>\n",
       "      <td>21.0</td>\n",
       "      <td>NaN</td>\n",
       "      <td>NaN</td>\n",
       "      <td>NaN</td>\n",
       "      <td>NaN</td>\n",
       "      <td>NaN</td>\n",
       "      <td>NaN</td>\n",
       "      <td>NaN</td>\n",
       "      <td>NaN</td>\n",
       "    </tr>\n",
       "    <tr>\n",
       "      <th>2011-09-01</th>\n",
       "      <td>299.0</td>\n",
       "      <td>70.0</td>\n",
       "      <td>90.0</td>\n",
       "      <td>34.0</td>\n",
       "      <td>NaN</td>\n",
       "      <td>NaN</td>\n",
       "      <td>NaN</td>\n",
       "      <td>NaN</td>\n",
       "      <td>NaN</td>\n",
       "      <td>NaN</td>\n",
       "      <td>NaN</td>\n",
       "      <td>NaN</td>\n",
       "      <td>NaN</td>\n",
       "    </tr>\n",
       "    <tr>\n",
       "      <th>2011-10-01</th>\n",
       "      <td>358.0</td>\n",
       "      <td>86.0</td>\n",
       "      <td>41.0</td>\n",
       "      <td>NaN</td>\n",
       "      <td>NaN</td>\n",
       "      <td>NaN</td>\n",
       "      <td>NaN</td>\n",
       "      <td>NaN</td>\n",
       "      <td>NaN</td>\n",
       "      <td>NaN</td>\n",
       "      <td>NaN</td>\n",
       "      <td>NaN</td>\n",
       "      <td>NaN</td>\n",
       "    </tr>\n",
       "    <tr>\n",
       "      <th>2011-11-01</th>\n",
       "      <td>323.0</td>\n",
       "      <td>36.0</td>\n",
       "      <td>NaN</td>\n",
       "      <td>NaN</td>\n",
       "      <td>NaN</td>\n",
       "      <td>NaN</td>\n",
       "      <td>NaN</td>\n",
       "      <td>NaN</td>\n",
       "      <td>NaN</td>\n",
       "      <td>NaN</td>\n",
       "      <td>NaN</td>\n",
       "      <td>NaN</td>\n",
       "      <td>NaN</td>\n",
       "    </tr>\n",
       "    <tr>\n",
       "      <th>2011-12-01</th>\n",
       "      <td>41.0</td>\n",
       "      <td>NaN</td>\n",
       "      <td>NaN</td>\n",
       "      <td>NaN</td>\n",
       "      <td>NaN</td>\n",
       "      <td>NaN</td>\n",
       "      <td>NaN</td>\n",
       "      <td>NaN</td>\n",
       "      <td>NaN</td>\n",
       "      <td>NaN</td>\n",
       "      <td>NaN</td>\n",
       "      <td>NaN</td>\n",
       "      <td>NaN</td>\n",
       "    </tr>\n",
       "  </tbody>\n",
       "</table>\n",
       "</div>"
      ],
      "text/plain": [
       "CohortIndex     1      2      3      4      5      6      7      8      9   \\\n",
       "CohortMonth                                                                  \n",
       "2010-12-01   885.0  324.0  286.0  340.0  321.0  352.0  321.0  309.0  313.0   \n",
       "2011-01-01   417.0   92.0  111.0   96.0  134.0  120.0  103.0  101.0  125.0   \n",
       "2011-02-01   380.0   71.0   71.0  108.0  103.0   94.0   96.0  106.0   94.0   \n",
       "2011-03-01   452.0   68.0  114.0   90.0  101.0   76.0  121.0  104.0  126.0   \n",
       "2011-04-01   300.0   64.0   61.0   63.0   59.0   68.0   65.0   78.0   22.0   \n",
       "2011-05-01   284.0   54.0   49.0   49.0   59.0   66.0   75.0   27.0    NaN   \n",
       "2011-06-01   242.0   42.0   38.0   64.0   56.0   81.0   23.0    NaN    NaN   \n",
       "2011-07-01   188.0   34.0   39.0   42.0   51.0   21.0    NaN    NaN    NaN   \n",
       "2011-08-01   169.0   35.0   42.0   41.0   21.0    NaN    NaN    NaN    NaN   \n",
       "2011-09-01   299.0   70.0   90.0   34.0    NaN    NaN    NaN    NaN    NaN   \n",
       "2011-10-01   358.0   86.0   41.0    NaN    NaN    NaN    NaN    NaN    NaN   \n",
       "2011-11-01   323.0   36.0    NaN    NaN    NaN    NaN    NaN    NaN    NaN   \n",
       "2011-12-01    41.0    NaN    NaN    NaN    NaN    NaN    NaN    NaN    NaN   \n",
       "\n",
       "CohortIndex     10     11     12     13  \n",
       "CohortMonth                              \n",
       "2010-12-01   350.0  331.0  445.0  235.0  \n",
       "2011-01-01   136.0  152.0   49.0    NaN  \n",
       "2011-02-01   116.0   26.0    NaN    NaN  \n",
       "2011-03-01    39.0    NaN    NaN    NaN  \n",
       "2011-04-01     NaN    NaN    NaN    NaN  \n",
       "2011-05-01     NaN    NaN    NaN    NaN  \n",
       "2011-06-01     NaN    NaN    NaN    NaN  \n",
       "2011-07-01     NaN    NaN    NaN    NaN  \n",
       "2011-08-01     NaN    NaN    NaN    NaN  \n",
       "2011-09-01     NaN    NaN    NaN    NaN  \n",
       "2011-10-01     NaN    NaN    NaN    NaN  \n",
       "2011-11-01     NaN    NaN    NaN    NaN  \n",
       "2011-12-01     NaN    NaN    NaN    NaN  "
      ]
     },
     "execution_count": 35,
     "metadata": {},
     "output_type": "execute_result"
    }
   ],
   "source": [
    "#Count monthly active customers from each cohort\n",
    "grouping = retail_data.groupby(['CohortMonth', 'CohortIndex'])\n",
    "cohort_data = grouping['CustomerID'].apply(pd.Series.nunique)\n",
    "\n",
    "# Return number of unique elements in the object.\n",
    "cohort_data = cohort_data.reset_index()\n",
    "cohort_counts = cohort_data.pivot(index='CohortMonth',columns='CohortIndex',values='CustomerID')\n",
    "cohort_counts"
   ]
  },
  {
   "cell_type": "code",
   "execution_count": 58,
   "id": "f2145822-9361-4c27-b7e0-b9200a9d0651",
   "metadata": {},
   "outputs": [],
   "source": [
    "# cohort metrics : calculating retention rate\n",
    "cohort_sizes = cohort_counts.iloc[:,0]\n",
    "retention = cohort_counts.divide(cohort_sizes, axis=0)\n",
    "retention.round(3) * 100\n",
    "retention.index = retention.index.date"
   ]
  },
  {
   "cell_type": "code",
   "execution_count": 54,
   "id": "8091836e-6194-45ee-ab21-4042cf329d93",
   "metadata": {},
   "outputs": [],
   "source": [
    "#Average quantity for each cohort\n",
    "grouping_1 = retail_data.groupby(['CohortMonth', 'CohortIndex'])\n",
    "cohort_data = grouping_1['Quantity'].mean()\n",
    "cohort_data = cohort_data.reset_index()\n",
    "average_quantity = cohort_data.pivot(index='CohortMonth',columns='CohortIndex',values='Quantity')\n",
    "average_quantity.round(1)\n",
    "average_quantity.index = average_quantity.index.date"
   ]
  },
  {
   "cell_type": "code",
   "execution_count": 56,
   "id": "73e128bd-cc5f-426e-bdd4-47a149e24365",
   "metadata": {},
   "outputs": [],
   "source": [
    "#Average unit price for each cohort\n",
    "grouping_2 = retail_data.groupby(['CohortMonth', 'CohortIndex'])\n",
    "cohort_data = grouping_2['UnitPrice'].mean()\n",
    "cohort_data = cohort_data.reset_index()\n",
    "average_price = cohort_data.pivot(index='CohortMonth',columns='CohortIndex',values='UnitPrice')\n",
    "average_price.round(1)\n",
    "average_price.index = average_price.index.date"
   ]
  },
  {
   "cell_type": "code",
   "execution_count": 61,
   "id": "69068e63-c51b-4a16-a52e-85c5f7a33d84",
   "metadata": {
    "collapsed": true,
    "jupyter": {
     "outputs_hidden": true
    },
    "tags": []
   },
   "outputs": [
    {
     "data": {
      "text/html": [
       "<div>\n",
       "<style scoped>\n",
       "    .dataframe tbody tr th:only-of-type {\n",
       "        vertical-align: middle;\n",
       "    }\n",
       "\n",
       "    .dataframe tbody tr th {\n",
       "        vertical-align: top;\n",
       "    }\n",
       "\n",
       "    .dataframe thead th {\n",
       "        text-align: right;\n",
       "    }\n",
       "</style>\n",
       "<table border=\"1\" class=\"dataframe\">\n",
       "  <thead>\n",
       "    <tr style=\"text-align: right;\">\n",
       "      <th></th>\n",
       "      <th>InvoiceNo</th>\n",
       "      <th>StockCode</th>\n",
       "      <th>Description</th>\n",
       "      <th>Quantity</th>\n",
       "      <th>InvoiceDate</th>\n",
       "      <th>UnitPrice</th>\n",
       "      <th>CustomerID</th>\n",
       "      <th>Country</th>\n",
       "      <th>InvoiceDay</th>\n",
       "      <th>CohortDay</th>\n",
       "      <th>CohortIndex</th>\n",
       "      <th>InvoiceMonth</th>\n",
       "      <th>CohortMonth</th>\n",
       "      <th>Amount</th>\n",
       "    </tr>\n",
       "  </thead>\n",
       "  <tbody>\n",
       "    <tr>\n",
       "      <th>0</th>\n",
       "      <td>536365</td>\n",
       "      <td>85123A</td>\n",
       "      <td>WHITE HANGING HEART T-LIGHT HOLDER</td>\n",
       "      <td>6</td>\n",
       "      <td>2010-12-01 08:26:00</td>\n",
       "      <td>2.55</td>\n",
       "      <td>17850.0</td>\n",
       "      <td>United Kingdom</td>\n",
       "      <td>2010-12-01</td>\n",
       "      <td>2010-12-01</td>\n",
       "      <td>1</td>\n",
       "      <td>2010-12-01</td>\n",
       "      <td>2010-12-01</td>\n",
       "      <td>15.30</td>\n",
       "    </tr>\n",
       "    <tr>\n",
       "      <th>1</th>\n",
       "      <td>536365</td>\n",
       "      <td>71053</td>\n",
       "      <td>WHITE METAL LANTERN</td>\n",
       "      <td>6</td>\n",
       "      <td>2010-12-01 08:26:00</td>\n",
       "      <td>3.39</td>\n",
       "      <td>17850.0</td>\n",
       "      <td>United Kingdom</td>\n",
       "      <td>2010-12-01</td>\n",
       "      <td>2010-12-01</td>\n",
       "      <td>1</td>\n",
       "      <td>2010-12-01</td>\n",
       "      <td>2010-12-01</td>\n",
       "      <td>20.34</td>\n",
       "    </tr>\n",
       "    <tr>\n",
       "      <th>2</th>\n",
       "      <td>536365</td>\n",
       "      <td>84406B</td>\n",
       "      <td>CREAM CUPID HEARTS COAT HANGER</td>\n",
       "      <td>8</td>\n",
       "      <td>2010-12-01 08:26:00</td>\n",
       "      <td>2.75</td>\n",
       "      <td>17850.0</td>\n",
       "      <td>United Kingdom</td>\n",
       "      <td>2010-12-01</td>\n",
       "      <td>2010-12-01</td>\n",
       "      <td>1</td>\n",
       "      <td>2010-12-01</td>\n",
       "      <td>2010-12-01</td>\n",
       "      <td>22.00</td>\n",
       "    </tr>\n",
       "    <tr>\n",
       "      <th>3</th>\n",
       "      <td>536365</td>\n",
       "      <td>84029G</td>\n",
       "      <td>KNITTED UNION FLAG HOT WATER BOTTLE</td>\n",
       "      <td>6</td>\n",
       "      <td>2010-12-01 08:26:00</td>\n",
       "      <td>3.39</td>\n",
       "      <td>17850.0</td>\n",
       "      <td>United Kingdom</td>\n",
       "      <td>2010-12-01</td>\n",
       "      <td>2010-12-01</td>\n",
       "      <td>1</td>\n",
       "      <td>2010-12-01</td>\n",
       "      <td>2010-12-01</td>\n",
       "      <td>20.34</td>\n",
       "    </tr>\n",
       "    <tr>\n",
       "      <th>4</th>\n",
       "      <td>536365</td>\n",
       "      <td>84029E</td>\n",
       "      <td>RED WOOLLY HOTTIE WHITE HEART.</td>\n",
       "      <td>6</td>\n",
       "      <td>2010-12-01 08:26:00</td>\n",
       "      <td>3.39</td>\n",
       "      <td>17850.0</td>\n",
       "      <td>United Kingdom</td>\n",
       "      <td>2010-12-01</td>\n",
       "      <td>2010-12-01</td>\n",
       "      <td>1</td>\n",
       "      <td>2010-12-01</td>\n",
       "      <td>2010-12-01</td>\n",
       "      <td>20.34</td>\n",
       "    </tr>\n",
       "  </tbody>\n",
       "</table>\n",
       "</div>"
      ],
      "text/plain": [
       "  InvoiceNo StockCode                          Description  Quantity  \\\n",
       "0    536365    85123A   WHITE HANGING HEART T-LIGHT HOLDER         6   \n",
       "1    536365     71053                  WHITE METAL LANTERN         6   \n",
       "2    536365    84406B       CREAM CUPID HEARTS COAT HANGER         8   \n",
       "3    536365    84029G  KNITTED UNION FLAG HOT WATER BOTTLE         6   \n",
       "4    536365    84029E       RED WOOLLY HOTTIE WHITE HEART.         6   \n",
       "\n",
       "          InvoiceDate  UnitPrice  CustomerID         Country InvoiceDay  \\\n",
       "0 2010-12-01 08:26:00       2.55     17850.0  United Kingdom 2010-12-01   \n",
       "1 2010-12-01 08:26:00       3.39     17850.0  United Kingdom 2010-12-01   \n",
       "2 2010-12-01 08:26:00       2.75     17850.0  United Kingdom 2010-12-01   \n",
       "3 2010-12-01 08:26:00       3.39     17850.0  United Kingdom 2010-12-01   \n",
       "4 2010-12-01 08:26:00       3.39     17850.0  United Kingdom 2010-12-01   \n",
       "\n",
       "   CohortDay  CohortIndex InvoiceMonth CohortMonth  Amount  \n",
       "0 2010-12-01            1   2010-12-01  2010-12-01   15.30  \n",
       "1 2010-12-01            1   2010-12-01  2010-12-01   20.34  \n",
       "2 2010-12-01            1   2010-12-01  2010-12-01   22.00  \n",
       "3 2010-12-01            1   2010-12-01  2010-12-01   20.34  \n",
       "4 2010-12-01            1   2010-12-01  2010-12-01   20.34  "
      ]
     },
     "execution_count": 61,
     "metadata": {},
     "output_type": "execute_result"
    }
   ],
   "source": [
    "# total amount spent on every transaction \n",
    "retail_data['Amount'] = retail_data['Quantity']*retail_data['UnitPrice']\n",
    "retail_data.head()"
   ]
  },
  {
   "cell_type": "code",
   "execution_count": 62,
   "id": "40da60d9-19c0-408e-9518-0d6aec239f1b",
   "metadata": {},
   "outputs": [],
   "source": [
    "#Average amount spent for each cohort\n",
    "grouping_3 = retail_data.groupby(['CohortMonth', 'CohortIndex'])\n",
    "cohort_data = grouping_3['Amount'].mean()\n",
    "cohort_data = cohort_data.reset_index()\n",
    "average_amount = cohort_data.pivot(index='CohortMonth',columns='CohortIndex',values='Amount')\n",
    "average_amount.round(1)\n",
    "average_amount.index = average_amount.index.date"
   ]
  },
  {
   "cell_type": "code",
   "execution_count": 64,
   "id": "131e35ea-b9fe-4b61-97db-431a5847ea18",
   "metadata": {},
   "outputs": [
    {
     "data": {
      "image/png": "[encoded data removed]",
      "text/plain": [
       "<Figure size 1800x1440 with 8 Axes>"
      ]
     },
     "metadata": {
      "needs_background": "light"
     },
     "output_type": "display_data"
    }
   ],
   "source": [
    "# constructing the heatmap\n",
    "plt.figure(figsize=(25,20))\n",
    "\n",
    "plt.subplot(221)\n",
    "plt.title(\"Retention rate per monthly cohort\")\n",
    "sns.heatmap(retention, annot=True,fmt='.0%', vmin = 0.0,vmax =0.5,cmap=\"Blues\")\n",
    "\n",
    "plt.subplot(222)\n",
    "plt.title(\"Average quantity for each cohort\")\n",
    "sns.heatmap(data=average_quantity,annot = True,vmin = 0.0,vmax =20,cmap=\"YlGn_r\")\n",
    "\n",
    "plt.subplot(223)\n",
    "plt.title(\"Average unit price for each cohort\")\n",
    "sns.heatmap(data=average_price,annot = True,vmin = 0.0,vmax =20,cmap=\"RdBu\")\n",
    "\n",
    "plt.subplot(224)\n",
    "plt.title(\"Average money spent for each cohort\")\n",
    "sns.heatmap(data=average_amount,annot = True,vmin = 0.0,vmax =40,cmap=\"RdBu_r\")\n",
    "\n",
    "plt.show()"
   ]
  },
  {
   "cell_type": "markdown",
   "id": "5116dcfe-4ea5-493f-9013-a67c4fd0c075",
   "metadata": {},
   "source": [
    "The above heatmaps shows the following :\n",
    "1. Retention rate falls drastically after the first month from December, 2010.\n",
    "2. Average quantity of product sold increased for months  Jan, Feb 2011 and reduced gradually for July and August of 2011.\n",
    "3. In the 4th heatmap, we can see that the average amount spent by the group of customers is initially 27 in Jan'2011 but after one month they spent 25, lower than the previous, then they spend 21 after two months and so on."
   ]
  },
  {
   "cell_type": "code",
   "execution_count": 66,
   "id": "c35e7489-328c-427b-82ad-14605c105603",
   "metadata": {},
   "outputs": [
    {
     "data": {
      "image/png": "[encoded data removed]",
      "text/plain": [
       "<Figure size 1080x432 with 1 Axes>"
      ]
     },
     "metadata": {
      "needs_background": "light"
     },
     "output_type": "display_data"
    }
   ],
   "source": [
    "retail_data['UnitPrice'].plot.box(figsize=(15,6))\n",
    "plt.show()"
   ]
  }
 ],
 "metadata": {
  "kernelspec": {
   "display_name": "Python 3",
   "language": "python",
   "name": "python3"
  },
  "language_info": {
   "codemirror_mode": {
    "name": "ipython",
    "version": 3
   },
   "file_extension": ".py",
   "mimetype": "text/x-python",
   "name": "python",
   "nbconvert_exporter": "python",
   "pygments_lexer": "ipython3",
   "version": "3.8.8"
  }
 },
 "nbformat": 4,
 "nbformat_minor": 5
}
